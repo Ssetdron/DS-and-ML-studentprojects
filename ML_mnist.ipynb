{
 "cells": [
  {
   "cell_type": "markdown",
   "metadata": {},
   "source": [
    "# Machine Learning \n",
    "\n",
    "Building a model to predict numbers from handwritten digits using the MNIST dataset"
   ]
  },
  {
   "cell_type": "code",
   "execution_count": 27,
   "metadata": {},
   "outputs": [],
   "source": [
    "import numpy as np\n",
    "import pandas as pd\n",
    "import joblib\n",
    "from sklearn.datasets import fetch_openml\n",
    "from sklearn.model_selection import train_test_split\n",
    "import matplotlib.pyplot as plt \n",
    "from sklearn.model_selection import cross_val_score\n",
    "from sklearn.ensemble import RandomForestClassifier\n",
    "from sklearn.metrics import accuracy_score, confusion_matrix, classification_report, ConfusionMatrixDisplay\n",
    "from sklearn.model_selection import RandomizedSearchCV\n",
    "from xgboost import XGBClassifier\n"
   ]
  },
  {
   "cell_type": "code",
   "execution_count": 2,
   "metadata": {},
   "outputs": [
    {
     "name": "stdout",
     "output_type": "stream",
     "text": [
      "**Author**: Yann LeCun, Corinna Cortes, Christopher J.C. Burges  \n",
      "**Source**: [MNIST Website](http://yann.lecun.com/exdb/mnist/) - Date unknown  \n",
      "**Please cite**:  \n",
      "\n",
      "The MNIST database of handwritten digits with 784 features, raw data available at: http://yann.lecun.com/exdb/mnist/. It can be split in a training set of the first 60,000 examples, and a test set of 10,000 examples  \n",
      "\n",
      "It is a subset of a larger set available from NIST. The digits have been size-normalized and centered in a fixed-size image. It is a good database for people who want to try learning techniques and pattern recognition methods on real-world data while spending minimal efforts on preprocessing and formatting. The original black and white (bilevel) images from NIST were size normalized to fit in a 20x20 pixel box while preserving their aspect ratio. The resulting images contain grey levels as a result of the anti-aliasing technique used by the normalization algorithm. the images were centered in a 28x28 image by computing the center of mass of the pixels, and translating the image so as to position this point at the center of the 28x28 field.  \n",
      "\n",
      "With some classification methods (particularly template-based methods, such as SVM and K-nearest neighbors), the error rate improves when the digits are centered by bounding box rather than center of mass. If you do this kind of pre-processing, you should report it in your publications. The MNIST database was constructed from NIST's NIST originally designated SD-3 as their training set and SD-1 as their test set. However, SD-3 is much cleaner and easier to recognize than SD-1. The reason for this can be found on the fact that SD-3 was collected among Census Bureau employees, while SD-1 was collected among high-school students. Drawing sensible conclusions from learning experiments requires that the result be independent of the choice of training set and test among the complete set of samples. Therefore it was necessary to build a new database by mixing NIST's datasets.  \n",
      "\n",
      "The MNIST training set is composed of 30,000 patterns from SD-3 and 30,000 patterns from SD-1. Our test set was composed of 5,000 patterns from SD-3 and 5,000 patterns from SD-1. The 60,000 pattern training set contained examples from approximately 250 writers. We made sure that the sets of writers of the training set and test set were disjoint. SD-1 contains 58,527 digit images written by 500 different writers. In contrast to SD-3, where blocks of data from each writer appeared in sequence, the data in SD-1 is scrambled. Writer identities for SD-1 is available and we used this information to unscramble the writers. We then split SD-1 in two: characters written by the first 250 writers went into our new training set. The remaining 250 writers were placed in our test set. Thus we had two sets with nearly 30,000 examples each. The new training set was completed with enough examples from SD-3, starting at pattern # 0, to make a full set of 60,000 training patterns. Similarly, the new test set was completed with SD-3 examples starting at pattern # 35,000 to make a full set with 60,000 test patterns. Only a subset of 10,000 test images (5,000 from SD-1 and 5,000 from SD-3) is available on this site. The full 60,000 sample training set is available.\n",
      "\n",
      "Downloaded from openml.org.\n"
     ]
    }
   ],
   "source": [
    "#import data\n",
    "mnist = fetch_openml(\"mnist_784\", version = 1, cache = True, as_frame = False)\n",
    "print(mnist.DESCR)"
   ]
  },
  {
   "cell_type": "code",
   "execution_count": 3,
   "metadata": {},
   "outputs": [],
   "source": [
    "# 60 000 training and 10 000 test patterns\n",
    "# 28 x 28 image field\n",
    "# 784 features \n",
    "\n",
    "X = mnist[\"data\"]\n",
    "y = mnist[\"target\"].astype(np.uint8)"
   ]
  },
  {
   "cell_type": "code",
   "execution_count": 4,
   "metadata": {},
   "outputs": [
    {
     "data": {
      "text/plain": [
       "((14000, 784), (14000,))"
      ]
     },
     "execution_count": 4,
     "metadata": {},
     "output_type": "execute_result"
    }
   ],
   "source": [
    "X_train, X_test, y_train, y_test = train_test_split(X, y, test_size=0.2, random_state=42)\n",
    "X_train.shape, y_train.shape\n",
    "X_test.shape, y_test.shape"
   ]
  },
  {
   "cell_type": "code",
   "execution_count": 24,
   "metadata": {},
   "outputs": [
    {
     "data": {
      "image/png": "[encoded data removed]",
      "text/plain": [
       "<Figure size 1000x500 with 10 Axes>"
      ]
     },
     "metadata": {},
     "output_type": "display_data"
    }
   ],
   "source": [
    "# see sample images from the data set for each digit (0-9)\n",
    "unique_labels = np.arange(10) \n",
    "ind = [np.where(y_train == label)[0][0] for label in unique_labels]  # first occurrence of each digit\n",
    "\n",
    "plt.figure(figsize=(10, 5))\n",
    "for i, idx in enumerate(ind):\n",
    "    plt.subplot(2, 5, i+1)\n",
    "    plt.imshow(X_train[idx].reshape(28, 28), cmap=\"gray\")  \n",
    "    plt.title(f\"Label: {y_train[idx]}\")\n",
    "    plt.axis(\"off\")  \n",
    "\n",
    "plt.show()"
   ]
  },
  {
   "cell_type": "code",
   "execution_count": 6,
   "metadata": {},
   "outputs": [
    {
     "name": "stdout",
     "output_type": "stream",
     "text": [
      "{np.uint8(0): np.int64(5560), np.uint8(1): np.int64(6277), np.uint8(2): np.int64(5610), np.uint8(3): np.int64(5708), np.uint8(4): np.int64(5529), np.uint8(5): np.int64(5040), np.uint8(6): np.int64(5480), np.uint8(7): np.int64(5790), np.uint8(8): np.int64(5468), np.uint8(9): np.int64(5538)}\n"
     ]
    }
   ],
   "source": [
    "# check class distribution, see if all numbers are equally represented\n",
    "unique, counts = np.unique(y_train, return_counts=True)\n",
    "print(dict(zip(unique, counts)))"
   ]
  },
  {
   "cell_type": "code",
   "execution_count": null,
   "metadata": {},
   "outputs": [],
   "source": [
    "# defining the models\n",
    "rf = RandomForestClassifier(random_state=42)\n",
    "xgb = XGBClassifier()\n",
    "\n",
    "# defining the parameter distributions for RandomForest\n",
    "rf_param_dist = {\n",
    "    'n_estimators': [100, 200, 300],\n",
    "    'max_depth': [10, 20, 30],\n",
    "}\n",
    "\n",
    "# defining the parameter distributions for XGBoost\n",
    "xgb_param_dist = {\n",
    "    'n_estimators': [100, 200],\n",
    "    'max_depth': [3, 6],\n",
    "    'learning_rate': [0.01, 0.1, 0.2],\n",
    "    'subsample': [0.8, 0.9],\n",
    "    'colsample_bytree': [0.8, 0.9]\n",
    "}"
   ]
  },
  {
   "cell_type": "markdown",
   "metadata": {},
   "source": [
    "# Train and Tune the two Models"
   ]
  },
  {
   "cell_type": "code",
   "execution_count": null,
   "metadata": {},
   "outputs": [
    {
     "name": "stdout",
     "output_type": "stream",
     "text": [
      "Best parameters for RandomForest: {'n_estimators': 300, 'max_depth': 30}\n",
      "Best parameters for XGBoost: {'subsample': 0.8, 'n_estimators': 100, 'max_depth': 6, 'learning_rate': 0.1, 'colsample_bytree': 0.8}\n"
     ]
    }
   ],
   "source": [
    "# using RandomizedSearchCV to give the best set of hyperparameters \n",
    "rf_random_search = RandomizedSearchCV(rf, rf_param_dist, n_iter=9, cv=5, random_state=42)\n",
    "xgb_random_search = RandomizedSearchCV(xgb, xgb_param_dist, n_iter=9, cv=5, random_state=42)\n",
    "\n",
    "# fit the RandomizedSearchCV\n",
    "rf_random_search.fit(X_train, y_train)\n",
    "xgb_random_search.fit(X_train, y_train)\n",
    "\n",
    "# print the best parameters for each model\n",
    "print(\"Best parameters for RandomForest:\", rf_random_search.best_params_)\n",
    "print(\"Best parameters for XGBoost:\", xgb_random_search.best_params_)"
   ]
  },
  {
   "cell_type": "code",
   "execution_count": null,
   "metadata": {},
   "outputs": [
    {
     "name": "stdout",
     "output_type": "stream",
     "text": [
      "Random Forest training complete!\n",
      "XGB training complete!\n"
     ]
    }
   ],
   "source": [
    "# train Random Forest with the best parameters\n",
    "rf_best = RandomForestClassifier(n_estimators=300, max_depth=30, random_state=42)\n",
    "rf_best.fit(X_train, y_train)\n",
    "print(\"Random Forest training complete!\")\n",
    "\n",
    "# train XGBoost with the best parameters\n",
    "xgb_best = XGBClassifier(subsample=0.8, n_estimators=100, max_depth=6, learning_rate=0.1, colsample_bytree=0.8, random_state=42)\n",
    "xgb_best.fit(X_train, y_train)\n",
    "print(\"XGB training complete!\")"
   ]
  },
  {
   "cell_type": "markdown",
   "metadata": {},
   "source": [
    "# Evaluating of the Models"
   ]
  },
  {
   "cell_type": "code",
   "execution_count": 11,
   "metadata": {},
   "outputs": [
    {
     "name": "stdout",
     "output_type": "stream",
     "text": [
      "Random Forest Performance:\n",
      "              precision    recall  f1-score   support\n",
      "\n",
      "           0       0.98      0.99      0.98      1343\n",
      "           1       0.98      0.99      0.99      1600\n",
      "           2       0.95      0.97      0.96      1380\n",
      "           3       0.96      0.95      0.96      1433\n",
      "           4       0.97      0.97      0.97      1295\n",
      "           5       0.97      0.96      0.97      1273\n",
      "           6       0.98      0.99      0.98      1396\n",
      "           7       0.97      0.97      0.97      1503\n",
      "           8       0.96      0.96      0.96      1357\n",
      "           9       0.95      0.95      0.95      1420\n",
      "\n",
      "    accuracy                           0.97     14000\n",
      "   macro avg       0.97      0.97      0.97     14000\n",
      "weighted avg       0.97      0.97      0.97     14000\n",
      "\n",
      "Accuracy: 0.9681428571428572\n",
      "\n",
      " XGBoost Performance:\n",
      "              precision    recall  f1-score   support\n",
      "\n",
      "           0       0.99      0.99      0.99      1343\n",
      "           1       0.98      0.98      0.98      1600\n",
      "           2       0.96      0.97      0.96      1380\n",
      "           3       0.97      0.95      0.96      1433\n",
      "           4       0.97      0.97      0.97      1295\n",
      "           5       0.97      0.97      0.97      1273\n",
      "           6       0.98      0.98      0.98      1396\n",
      "           7       0.97      0.97      0.97      1503\n",
      "           8       0.96      0.96      0.96      1357\n",
      "           9       0.95      0.95      0.95      1420\n",
      "\n",
      "    accuracy                           0.97     14000\n",
      "   macro avg       0.97      0.97      0.97     14000\n",
      "weighted avg       0.97      0.97      0.97     14000\n",
      "\n",
      "Accuracy: 0.9696428571428571\n"
     ]
    }
   ],
   "source": [
    "# make predictions\n",
    "rf_preds = rf_best.predict(X_test)\n",
    "xgb_preds = xgb_best.predict(X_test)\n",
    "\n",
    "# evaluate Random Forest\n",
    "print(\"Random Forest Performance:\")\n",
    "print(classification_report (y_test, rf_preds))\n",
    "print(\"Accuracy:\", accuracy_score(y_test, rf_preds))\n",
    "\n",
    "# evaluate XGBoost\n",
    "print(\"\\n XGBoost Performance:\")\n",
    "print(classification_report(y_test, xgb_preds))\n",
    "print(\"Accuracy:\", accuracy_score(y_test, xgb_preds))"
   ]
  },
  {
   "cell_type": "markdown",
   "metadata": {},
   "source": [
    "## Model Desicion\n",
    "\n",
    "After evaluating the performance of both the Random Forest and XGBoost models, I found that they both achieve similar accuracy scores. However, based on additional considerations, I have decided to move forward with the Random Forest model. The key factors in this decision are:\n",
    "\n",
    "1. Storage Efficiency\n",
    "2. Faster Execution\n",
    "3. Simpler Workflow\n",
    "\n",
    "While both models perform well, the Random Forest model provides a good balance of performance and efficiency."
   ]
  },
  {
   "cell_type": "code",
   "execution_count": 18,
   "metadata": {},
   "outputs": [
    {
     "data": {
      "image/png": "[encoded data removed]",
      "text/plain": [
       "<Figure size 640x480 with 2 Axes>"
      ]
     },
     "metadata": {},
     "output_type": "display_data"
    }
   ],
   "source": [
    "rf_preds = rf_best.predict(X_test)\n",
    "cm = confusion_matrix(y_test, rf_preds)\n",
    "disp = ConfusionMatrixDisplay(confusion_matrix=cm, display_labels=[0, 1, 2, 3, 4, 5, 6, 7, 8, 9])\n",
    "disp.plot(cmap=plt.cm.Reds)\n",
    "\n",
    "plt.show()"
   ]
  },
  {
   "cell_type": "markdown",
   "metadata": {},
   "source": [
    "# Final Model\n",
    "\n",
    "Train the final model on the entire dataset (train + test) to make the most out of all available data before deployment."
   ]
  },
  {
   "cell_type": "code",
   "execution_count": 29,
   "metadata": {},
   "outputs": [
    {
     "name": "stdout",
     "output_type": "stream",
     "text": [
      "Final training complete!\n"
     ]
    }
   ],
   "source": [
    "rf_final = RandomForestClassifier(n_estimators=300, max_depth=30, random_state=42)\n",
    "X_combined = np.concatenate((X_train, X_test), axis=0) \n",
    "y_combined = np.concatenate((y_train, y_test), axis=0)\n",
    "rf_final.fit(X_combined, y_combined)\n",
    "print(\"Final training complete!\")"
   ]
  },
  {
   "cell_type": "code",
   "execution_count": 30,
   "metadata": {},
   "outputs": [
    {
     "data": {
      "text/plain": [
       "['random_forest_final_model.joblib']"
      ]
     },
     "execution_count": 30,
     "metadata": {},
     "output_type": "execute_result"
    }
   ],
   "source": [
    "#save final model for deployment\n",
    "joblib.dump(rf_final, 'random_forest_final_model.joblib')"
   ]
  }
 ],
 "metadata": {
  "kernelspec": {
   "display_name": "ml_project",
   "language": "python",
   "name": "python3"
  },
  "language_info": {
   "codemirror_mode": {
    "name": "ipython",
    "version": 3
   },
   "file_extension": ".py",
   "mimetype": "text/x-python",
   "name": "python",
   "nbconvert_exporter": "python",
   "pygments_lexer": "ipython3",
   "version": "3.12.9"
  }
 },
 "nbformat": 4,
 "nbformat_minor": 2
}
